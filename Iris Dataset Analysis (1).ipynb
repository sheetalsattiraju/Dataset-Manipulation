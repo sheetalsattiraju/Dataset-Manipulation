{
 "cells": [
  {
   "cell_type": "markdown",
   "id": "64f1b7a4",
   "metadata": {},
   "source": [
    "# Iris Dataset: Practicing ML Models"
   ]
  },
  {
   "cell_type": "markdown",
   "id": "e692ad97",
   "metadata": {},
   "source": [
    "### Iris Dataset Info"
   ]
  },
  {
   "cell_type": "code",
   "execution_count": 1,
   "id": "bd504131",
   "metadata": {},
   "outputs": [],
   "source": [
    "import pandas as pd"
   ]
  },
  {
   "cell_type": "code",
   "execution_count": 2,
   "id": "6c028489",
   "metadata": {},
   "outputs": [],
   "source": [
    "#import Iris Dataset\n",
    "df = pd.read_csv('C:\\\\Users\\\\sheet\\\\Downloads\\\\Iris.csv')"
   ]
  },
  {
   "cell_type": "code",
   "execution_count": 3,
   "id": "9498f8ee",
   "metadata": {},
   "outputs": [
    {
     "data": {
      "text/html": [
       "<div>\n",
       "<style scoped>\n",
       "    .dataframe tbody tr th:only-of-type {\n",
       "        vertical-align: middle;\n",
       "    }\n",
       "\n",
       "    .dataframe tbody tr th {\n",
       "        vertical-align: top;\n",
       "    }\n",
       "\n",
       "    .dataframe thead th {\n",
       "        text-align: right;\n",
       "    }\n",
       "</style>\n",
       "<table border=\"1\" class=\"dataframe\">\n",
       "  <thead>\n",
       "    <tr style=\"text-align: right;\">\n",
       "      <th></th>\n",
       "      <th>Id</th>\n",
       "      <th>SepalLengthCm</th>\n",
       "      <th>SepalWidthCm</th>\n",
       "      <th>PetalLengthCm</th>\n",
       "      <th>PetalWidthCm</th>\n",
       "      <th>Species</th>\n",
       "    </tr>\n",
       "  </thead>\n",
       "  <tbody>\n",
       "    <tr>\n",
       "      <th>0</th>\n",
       "      <td>1</td>\n",
       "      <td>5.1</td>\n",
       "      <td>3.5</td>\n",
       "      <td>1.4</td>\n",
       "      <td>0.2</td>\n",
       "      <td>Iris-setosa</td>\n",
       "    </tr>\n",
       "    <tr>\n",
       "      <th>1</th>\n",
       "      <td>2</td>\n",
       "      <td>4.9</td>\n",
       "      <td>3.0</td>\n",
       "      <td>1.4</td>\n",
       "      <td>0.2</td>\n",
       "      <td>Iris-setosa</td>\n",
       "    </tr>\n",
       "    <tr>\n",
       "      <th>2</th>\n",
       "      <td>3</td>\n",
       "      <td>4.7</td>\n",
       "      <td>3.2</td>\n",
       "      <td>1.3</td>\n",
       "      <td>0.2</td>\n",
       "      <td>Iris-setosa</td>\n",
       "    </tr>\n",
       "    <tr>\n",
       "      <th>3</th>\n",
       "      <td>4</td>\n",
       "      <td>4.6</td>\n",
       "      <td>3.1</td>\n",
       "      <td>1.5</td>\n",
       "      <td>0.2</td>\n",
       "      <td>Iris-setosa</td>\n",
       "    </tr>\n",
       "    <tr>\n",
       "      <th>4</th>\n",
       "      <td>5</td>\n",
       "      <td>5.0</td>\n",
       "      <td>3.6</td>\n",
       "      <td>1.4</td>\n",
       "      <td>0.2</td>\n",
       "      <td>Iris-setosa</td>\n",
       "    </tr>\n",
       "  </tbody>\n",
       "</table>\n",
       "</div>"
      ],
      "text/plain": [
       "   Id  SepalLengthCm  SepalWidthCm  PetalLengthCm  PetalWidthCm      Species\n",
       "0   1            5.1           3.5            1.4           0.2  Iris-setosa\n",
       "1   2            4.9           3.0            1.4           0.2  Iris-setosa\n",
       "2   3            4.7           3.2            1.3           0.2  Iris-setosa\n",
       "3   4            4.6           3.1            1.5           0.2  Iris-setosa\n",
       "4   5            5.0           3.6            1.4           0.2  Iris-setosa"
      ]
     },
     "execution_count": 3,
     "metadata": {},
     "output_type": "execute_result"
    }
   ],
   "source": [
    "#shows first 5 records of dataframe\n",
    "df.head()"
   ]
  },
  {
   "cell_type": "code",
   "execution_count": 4,
   "id": "845c724f",
   "metadata": {},
   "outputs": [
    {
     "name": "stdout",
     "output_type": "stream",
     "text": [
      "<class 'pandas.core.frame.DataFrame'>\n",
      "RangeIndex: 150 entries, 0 to 149\n",
      "Data columns (total 6 columns):\n",
      " #   Column         Non-Null Count  Dtype  \n",
      "---  ------         --------------  -----  \n",
      " 0   Id             150 non-null    int64  \n",
      " 1   SepalLengthCm  150 non-null    float64\n",
      " 2   SepalWidthCm   150 non-null    float64\n",
      " 3   PetalLengthCm  150 non-null    float64\n",
      " 4   PetalWidthCm   150 non-null    float64\n",
      " 5   Species        150 non-null    object \n",
      "dtypes: float64(4), int64(1), object(1)\n",
      "memory usage: 7.2+ KB\n"
     ]
    }
   ],
   "source": [
    "#summarizes columns, dtypes, and etc\n",
    "df.info()"
   ]
  },
  {
   "cell_type": "code",
   "execution_count": 5,
   "id": "a9367218",
   "metadata": {},
   "outputs": [
    {
     "data": {
      "text/plain": [
       "Index(['Id', 'SepalLengthCm', 'SepalWidthCm', 'PetalLengthCm', 'PetalWidthCm',\n",
       "       'Species'],\n",
       "      dtype='object')"
      ]
     },
     "execution_count": 5,
     "metadata": {},
     "output_type": "execute_result"
    }
   ],
   "source": [
    "#function shows all columns in dataframe\n",
    "df.columns"
   ]
  },
  {
   "cell_type": "code",
   "execution_count": 6,
   "id": "c684220d",
   "metadata": {},
   "outputs": [],
   "source": [
    "#drop ID column since we don't need it\n",
    "df.drop(columns='Id', axis = 1, inplace = True)"
   ]
  },
  {
   "cell_type": "code",
   "execution_count": 7,
   "id": "0076f376",
   "metadata": {},
   "outputs": [
    {
     "data": {
      "text/plain": [
       "Index(['SepalLengthCm', 'SepalWidthCm', 'PetalLengthCm', 'PetalWidthCm',\n",
       "       'Species'],\n",
       "      dtype='object')"
      ]
     },
     "execution_count": 7,
     "metadata": {},
     "output_type": "execute_result"
    }
   ],
   "source": [
    "df.columns"
   ]
  },
  {
   "cell_type": "markdown",
   "id": "a7b0f02a",
   "metadata": {},
   "source": [
    "### Transforming Data"
   ]
  },
  {
   "cell_type": "code",
   "execution_count": 8,
   "id": "eb839184",
   "metadata": {},
   "outputs": [],
   "source": [
    "#import requried libraries\n",
    "from sklearn.model_selection import train_test_split\n",
    "from sklearn.preprocessing import LabelEncoder"
   ]
  },
  {
   "cell_type": "code",
   "execution_count": 9,
   "id": "0e81d54e",
   "metadata": {},
   "outputs": [],
   "source": [
    "#LabelEncoder converts categorical variables into numerical format\n",
    "#convert species into numerical classes\n",
    "le = LabelEncoder()\n",
    "df['Species'] = le.fit_transform(df['Species'])"
   ]
  },
  {
   "cell_type": "code",
   "execution_count": 10,
   "id": "21d1660a",
   "metadata": {},
   "outputs": [
    {
     "data": {
      "text/html": [
       "<div>\n",
       "<style scoped>\n",
       "    .dataframe tbody tr th:only-of-type {\n",
       "        vertical-align: middle;\n",
       "    }\n",
       "\n",
       "    .dataframe tbody tr th {\n",
       "        vertical-align: top;\n",
       "    }\n",
       "\n",
       "    .dataframe thead th {\n",
       "        text-align: right;\n",
       "    }\n",
       "</style>\n",
       "<table border=\"1\" class=\"dataframe\">\n",
       "  <thead>\n",
       "    <tr style=\"text-align: right;\">\n",
       "      <th></th>\n",
       "      <th>SepalLengthCm</th>\n",
       "      <th>SepalWidthCm</th>\n",
       "      <th>PetalLengthCm</th>\n",
       "      <th>PetalWidthCm</th>\n",
       "      <th>Species</th>\n",
       "    </tr>\n",
       "  </thead>\n",
       "  <tbody>\n",
       "    <tr>\n",
       "      <th>0</th>\n",
       "      <td>5.1</td>\n",
       "      <td>3.5</td>\n",
       "      <td>1.4</td>\n",
       "      <td>0.2</td>\n",
       "      <td>0</td>\n",
       "    </tr>\n",
       "    <tr>\n",
       "      <th>1</th>\n",
       "      <td>4.9</td>\n",
       "      <td>3.0</td>\n",
       "      <td>1.4</td>\n",
       "      <td>0.2</td>\n",
       "      <td>0</td>\n",
       "    </tr>\n",
       "    <tr>\n",
       "      <th>2</th>\n",
       "      <td>4.7</td>\n",
       "      <td>3.2</td>\n",
       "      <td>1.3</td>\n",
       "      <td>0.2</td>\n",
       "      <td>0</td>\n",
       "    </tr>\n",
       "    <tr>\n",
       "      <th>3</th>\n",
       "      <td>4.6</td>\n",
       "      <td>3.1</td>\n",
       "      <td>1.5</td>\n",
       "      <td>0.2</td>\n",
       "      <td>0</td>\n",
       "    </tr>\n",
       "    <tr>\n",
       "      <th>4</th>\n",
       "      <td>5.0</td>\n",
       "      <td>3.6</td>\n",
       "      <td>1.4</td>\n",
       "      <td>0.2</td>\n",
       "      <td>0</td>\n",
       "    </tr>\n",
       "  </tbody>\n",
       "</table>\n",
       "</div>"
      ],
      "text/plain": [
       "   SepalLengthCm  SepalWidthCm  PetalLengthCm  PetalWidthCm  Species\n",
       "0            5.1           3.5            1.4           0.2        0\n",
       "1            4.9           3.0            1.4           0.2        0\n",
       "2            4.7           3.2            1.3           0.2        0\n",
       "3            4.6           3.1            1.5           0.2        0\n",
       "4            5.0           3.6            1.4           0.2        0"
      ]
     },
     "execution_count": 10,
     "metadata": {},
     "output_type": "execute_result"
    }
   ],
   "source": [
    "#we can see categorical vars became numbers\n",
    "df.head()"
   ]
  },
  {
   "cell_type": "code",
   "execution_count": 11,
   "id": "b0378da3",
   "metadata": {},
   "outputs": [],
   "source": [
    "#X: columns 1-4 (features variable)\n",
    "X = df.drop(['Species'], axis = 1)\n",
    "#Y: column 5 (Target Variable)\n",
    "Y = df['Species']"
   ]
  },
  {
   "cell_type": "markdown",
   "id": "102d2011",
   "metadata": {},
   "source": [
    "### EDA"
   ]
  },
  {
   "cell_type": "code",
   "execution_count": 12,
   "id": "25c36969",
   "metadata": {},
   "outputs": [
    {
     "data": {
      "image/png": "[encoded data removed]",
      "text/plain": [
       "<Figure size 432x288 with 1 Axes>"
      ]
     },
     "metadata": {
      "needs_background": "light"
     },
     "output_type": "display_data"
    }
   ],
   "source": [
    "#visualize Sepal Length vs Sepal Width -- we can see class 0 is linearly separable while class 1 \n",
    "#and 2 are harder to separate\n",
    "import matplotlib.pyplot as plt\n",
    "import seaborn as sns\n",
    "\n",
    "sns.scatterplot(x='SepalLengthCm', y='SepalWidthCm', data=df, hue='Species')\n",
    "plt.title('Sepal Width vs Sepal Length')\n",
    "plt.show()"
   ]
  },
  {
   "cell_type": "code",
   "execution_count": 13,
   "id": "00c7971c",
   "metadata": {
    "scrolled": true
   },
   "outputs": [
    {
     "data": {
      "image/png": "[encoded data removed]",
      "text/plain": [
       "<Figure size 432x288 with 1 Axes>"
      ]
     },
     "metadata": {
      "needs_background": "light"
     },
     "output_type": "display_data"
    }
   ],
   "source": [
    "#visualize Petal Length vs Petal Width -- we can see class 0 is linearly separable. class 1 and 2 \n",
    "#can be distinguished as well\n",
    "sns.scatterplot(x='PetalLengthCm', y='PetalWidthCm', data=df, hue='Species')\n",
    "plt.title('Petal Width vs Petal Length')\n",
    "plt.show()"
   ]
  },
  {
   "cell_type": "code",
   "execution_count": 14,
   "id": "1880947d",
   "metadata": {},
   "outputs": [
    {
     "data": {
      "text/plain": [
       "<AxesSubplot:>"
      ]
     },
     "execution_count": 14,
     "metadata": {},
     "output_type": "execute_result"
    },
    {
     "data": {
      "image/png": "[encoded data removed]",
      "text/plain": [
       "<Figure size 432x288 with 2 Axes>"
      ]
     },
     "metadata": {
      "needs_background": "light"
     },
     "output_type": "display_data"
    }
   ],
   "source": [
    "#Heatmap: shows us important relationships to look at\n",
    "sns.heatmap(df.corr(), annot=True)"
   ]
  },
  {
   "cell_type": "markdown",
   "id": "31f40bb9",
   "metadata": {},
   "source": [
    "### Model 1: SVM"
   ]
  },
  {
   "cell_type": "code",
   "execution_count": 15,
   "id": "40e5eab9",
   "metadata": {},
   "outputs": [],
   "source": [
    "#Randomly Split data (Train: 80/ Test:20)\n",
    "X_train, X_test, y_train, y_test = train_test_split(X, Y, test_size=0.2)"
   ]
  },
  {
   "cell_type": "code",
   "execution_count": 16,
   "id": "8c683e15",
   "metadata": {},
   "outputs": [],
   "source": [
    "#import SVM\n",
    "from sklearn.svm import SVC\n",
    "svn = SVC()"
   ]
  },
  {
   "cell_type": "code",
   "execution_count": 17,
   "id": "24df4906",
   "metadata": {},
   "outputs": [
    {
     "data": {
      "text/plain": [
       "SVC()"
      ]
     },
     "execution_count": 17,
     "metadata": {},
     "output_type": "execute_result"
    }
   ],
   "source": [
    "#Fit the model & Train\n",
    "svn.fit(X_train, y_train)"
   ]
  },
  {
   "cell_type": "code",
   "execution_count": 18,
   "id": "dc0cc612",
   "metadata": {},
   "outputs": [
    {
     "data": {
      "text/plain": [
       "1.0"
      ]
     },
     "execution_count": 18,
     "metadata": {},
     "output_type": "execute_result"
    }
   ],
   "source": [
    "# Predict from the test dataset\n",
    "predictions = svn.predict(X_test)\n",
    "\n",
    "# Calculate the accuracy\n",
    "from sklearn.metrics import accuracy_score\n",
    "accuracy_score(y_test, predictions)"
   ]
  },
  {
   "cell_type": "code",
   "execution_count": 19,
   "id": "cea6f6dd",
   "metadata": {},
   "outputs": [
    {
     "name": "stdout",
     "output_type": "stream",
     "text": [
      "              precision    recall  f1-score   support\n",
      "\n",
      "           0       1.00      1.00      1.00        11\n",
      "           1       1.00      1.00      1.00        10\n",
      "           2       1.00      1.00      1.00         9\n",
      "\n",
      "    accuracy                           1.00        30\n",
      "   macro avg       1.00      1.00      1.00        30\n",
      "weighted avg       1.00      1.00      1.00        30\n",
      "\n"
     ]
    }
   ],
   "source": [
    "#Classification report\n",
    "from sklearn.metrics import classification_report\n",
    "print(classification_report(y_test, predictions))"
   ]
  },
  {
   "cell_type": "markdown",
   "id": "ad64b2d8",
   "metadata": {},
   "source": [
    "### Model 2: KNN"
   ]
  },
  {
   "cell_type": "code",
   "execution_count": 20,
   "id": "ef4f353d",
   "metadata": {},
   "outputs": [],
   "source": [
    "#Import KNN\n",
    "from sklearn.neighbors import KNeighborsClassifier"
   ]
  },
  {
   "cell_type": "code",
   "execution_count": 21,
   "id": "1e595b03",
   "metadata": {},
   "outputs": [],
   "source": [
    "#Randomly Split data (Train: 80/ Test:20)\n",
    "X_train1, X_test1, y_train1, y_test1 = train_test_split(X, Y, test_size=0.2)"
   ]
  },
  {
   "cell_type": "code",
   "execution_count": 22,
   "id": "b4168114",
   "metadata": {},
   "outputs": [
    {
     "data": {
      "text/plain": [
       "KNeighborsClassifier()"
      ]
     },
     "execution_count": 22,
     "metadata": {},
     "output_type": "execute_result"
    }
   ],
   "source": [
    "#Fit the model & Train - i picked k = 5\n",
    "knn = KNeighborsClassifier(5)\n",
    "knn.fit(X_train1, y_train1)"
   ]
  },
  {
   "cell_type": "code",
   "execution_count": 23,
   "id": "3b7f2a1c",
   "metadata": {},
   "outputs": [
    {
     "data": {
      "text/plain": [
       "0.9666666666666667"
      ]
     },
     "execution_count": 23,
     "metadata": {},
     "output_type": "execute_result"
    }
   ],
   "source": [
    "# Predict from the test dataset\n",
    "predictions = knn.predict(X_test1)\n",
    "\n",
    "# Calculate the accuracy\n",
    "accuracy_score(y_test1, predictions)"
   ]
  },
  {
   "cell_type": "code",
   "execution_count": 24,
   "id": "94f23926",
   "metadata": {},
   "outputs": [
    {
     "name": "stdout",
     "output_type": "stream",
     "text": [
      "              precision    recall  f1-score   support\n",
      "\n",
      "           0       1.00      1.00      1.00         6\n",
      "           1       0.91      1.00      0.95        10\n",
      "           2       1.00      0.93      0.96        14\n",
      "\n",
      "    accuracy                           0.97        30\n",
      "   macro avg       0.97      0.98      0.97        30\n",
      "weighted avg       0.97      0.97      0.97        30\n",
      "\n"
     ]
    }
   ],
   "source": [
    "#Classification report\n",
    "print(classification_report(y_test1, predictions))"
   ]
  },
  {
   "cell_type": "markdown",
   "id": "fe5bcd16",
   "metadata": {},
   "source": [
    "### Model 3: RandomForest"
   ]
  },
  {
   "cell_type": "code",
   "execution_count": 25,
   "id": "5959be06",
   "metadata": {},
   "outputs": [],
   "source": [
    "#import RF\n",
    "from sklearn.ensemble import RandomForestClassifier"
   ]
  },
  {
   "cell_type": "code",
   "execution_count": 26,
   "id": "e0e06622",
   "metadata": {},
   "outputs": [],
   "source": [
    "#Randomly Split data (Train: 80/ Test:20)\n",
    "X_train2, X_test2, y_train2, y_test2 = train_test_split(X, Y, test_size=0.2)"
   ]
  },
  {
   "cell_type": "code",
   "execution_count": 27,
   "id": "553f087c",
   "metadata": {},
   "outputs": [
    {
     "data": {
      "text/plain": [
       "RandomForestClassifier()"
      ]
     },
     "execution_count": 27,
     "metadata": {},
     "output_type": "execute_result"
    }
   ],
   "source": [
    "#Fit the model & Train - I picked 100 trees\n",
    "rf = RandomForestClassifier(n_estimators=100)\n",
    "rf.fit(X_train2, y_train2)"
   ]
  },
  {
   "cell_type": "code",
   "execution_count": 28,
   "id": "3be4da3a",
   "metadata": {},
   "outputs": [
    {
     "data": {
      "text/plain": [
       "0.9666666666666667"
      ]
     },
     "execution_count": 28,
     "metadata": {},
     "output_type": "execute_result"
    }
   ],
   "source": [
    "# Predict from the test dataset\n",
    "predictions = rf.predict(X_test2)\n",
    "\n",
    "# Calculate the accuracy\n",
    "accuracy_score(y_test2, predictions)"
   ]
  },
  {
   "cell_type": "code",
   "execution_count": 29,
   "id": "8a551d3d",
   "metadata": {},
   "outputs": [
    {
     "name": "stdout",
     "output_type": "stream",
     "text": [
      "              precision    recall  f1-score   support\n",
      "\n",
      "           0       1.00      1.00      1.00        12\n",
      "           1       0.90      1.00      0.95         9\n",
      "           2       1.00      0.89      0.94         9\n",
      "\n",
      "    accuracy                           0.97        30\n",
      "   macro avg       0.97      0.96      0.96        30\n",
      "weighted avg       0.97      0.97      0.97        30\n",
      "\n"
     ]
    }
   ],
   "source": [
    "#Classification report\n",
    "print(classification_report(y_test2, predictions))"
   ]
  },
  {
   "cell_type": "markdown",
   "id": "200baea5",
   "metadata": {},
   "source": [
    "### Model 4: MLP"
   ]
  },
  {
   "cell_type": "code",
   "execution_count": 30,
   "id": "911d191e",
   "metadata": {},
   "outputs": [],
   "source": [
    "#Import MLP\n",
    "from sklearn.neural_network import MLPClassifier"
   ]
  },
  {
   "cell_type": "code",
   "execution_count": 31,
   "id": "9218a5fb",
   "metadata": {},
   "outputs": [],
   "source": [
    "#Randomly Split data (Train: 80/ Test:20)\n",
    "X_train3, X_test3, y_train3, y_test3 = train_test_split(X,Y, test_size=0.2)"
   ]
  },
  {
   "cell_type": "code",
   "execution_count": 32,
   "id": "4157d4c5",
   "metadata": {},
   "outputs": [
    {
     "data": {
      "text/plain": [
       "MLPClassifier(max_iter=800)"
      ]
     },
     "execution_count": 32,
     "metadata": {},
     "output_type": "execute_result"
    }
   ],
   "source": [
    "#Fit the model & Train\n",
    "\n",
    "#One Single hidden layer w/ 100 neurons, ReLU activation function, Adaptive Moment Estimation optimizer, \n",
    "#L2 regularization with 0.0001 penalty & maximum of 800 training iterations.\n",
    "\n",
    "mlp=MLPClassifier(hidden_layer_sizes=(100,), activation='relu', solver='adam', alpha=0.0001, max_iter=800)\n",
    "mlp.fit(X_train3, y_train3)"
   ]
  },
  {
   "cell_type": "code",
   "execution_count": 33,
   "id": "7cab20b7",
   "metadata": {},
   "outputs": [
    {
     "data": {
      "text/plain": [
       "0.9666666666666667"
      ]
     },
     "execution_count": 33,
     "metadata": {},
     "output_type": "execute_result"
    }
   ],
   "source": [
    "# Predict from the test dataset\n",
    "predictions = mlp.predict(X_test3)\n",
    "\n",
    "# Calculate the accuracy\n",
    "accuracy_score(y_test3, predictions)"
   ]
  },
  {
   "cell_type": "code",
   "execution_count": 34,
   "id": "daa4c882",
   "metadata": {},
   "outputs": [
    {
     "name": "stdout",
     "output_type": "stream",
     "text": [
      "              precision    recall  f1-score   support\n",
      "\n",
      "           0       1.00      1.00      1.00         8\n",
      "           1       1.00      0.92      0.96        12\n",
      "           2       0.91      1.00      0.95        10\n",
      "\n",
      "    accuracy                           0.97        30\n",
      "   macro avg       0.97      0.97      0.97        30\n",
      "weighted avg       0.97      0.97      0.97        30\n",
      "\n"
     ]
    }
   ],
   "source": [
    "#Classification Report\n",
    "print(classification_report(y_test3, predictions))"
   ]
  },
  {
   "cell_type": "markdown",
   "id": "a5409200",
   "metadata": {},
   "source": [
    "### Model 5: Logistic Regression"
   ]
  },
  {
   "cell_type": "code",
   "execution_count": 35,
   "id": "b62b4d0a",
   "metadata": {},
   "outputs": [],
   "source": [
    "from sklearn.linear_model import LogisticRegression"
   ]
  },
  {
   "cell_type": "code",
   "execution_count": 36,
   "id": "70a4072b",
   "metadata": {},
   "outputs": [],
   "source": [
    "X_train4, X_test4, y_train4, y_test4 = train_test_split(X,Y, test_size=0.2, random_state = 42)"
   ]
  },
  {
   "cell_type": "code",
   "execution_count": 37,
   "id": "aa839710",
   "metadata": {},
   "outputs": [
    {
     "data": {
      "text/plain": [
       "LogisticRegression()"
      ]
     },
     "execution_count": 37,
     "metadata": {},
     "output_type": "execute_result"
    }
   ],
   "source": [
    "log_reg = LogisticRegression()\n",
    "log_reg.fit(X_train4, y_train4)"
   ]
  },
  {
   "cell_type": "code",
   "execution_count": 38,
   "id": "c205cf82",
   "metadata": {},
   "outputs": [
    {
     "data": {
      "text/plain": [
       "1.0"
      ]
     },
     "execution_count": 38,
     "metadata": {},
     "output_type": "execute_result"
    }
   ],
   "source": [
    "predictions = log_reg.predict(X_test4)\n",
    "\n",
    "# Calculate the accuracy\n",
    "accuracy_score(y_test4, predictions)"
   ]
  },
  {
   "cell_type": "code",
   "execution_count": 39,
   "id": "267c4961",
   "metadata": {},
   "outputs": [
    {
     "name": "stdout",
     "output_type": "stream",
     "text": [
      "              precision    recall  f1-score   support\n",
      "\n",
      "           0       1.00      1.00      1.00        10\n",
      "           1       1.00      1.00      1.00         9\n",
      "           2       1.00      1.00      1.00        11\n",
      "\n",
      "    accuracy                           1.00        30\n",
      "   macro avg       1.00      1.00      1.00        30\n",
      "weighted avg       1.00      1.00      1.00        30\n",
      "\n"
     ]
    }
   ],
   "source": [
    "#Classification Report\n",
    "print(classification_report(y_test4, predictions))"
   ]
  },
  {
   "cell_type": "markdown",
   "id": "e4cc8768",
   "metadata": {},
   "source": [
    "## Unsupervised Learning"
   ]
  },
  {
   "cell_type": "markdown",
   "id": "a0111813",
   "metadata": {},
   "source": [
    "### K means Clustering"
   ]
  },
  {
   "cell_type": "code",
   "execution_count": 40,
   "id": "0bc8066e",
   "metadata": {},
   "outputs": [
    {
     "data": {
      "text/plain": [
       "KMeans(n_clusters=3, random_state=42)"
      ]
     },
     "execution_count": 40,
     "metadata": {},
     "output_type": "execute_result"
    }
   ],
   "source": [
    "from sklearn.cluster import KMeans\n",
    "from sklearn import datasets\n",
    "\n",
    "kmeans = KMeans(n_clusters=3, random_state=42)\n",
    "kmeans.fit(X)"
   ]
  },
  {
   "cell_type": "code",
   "execution_count": 41,
   "id": "4f440c3e",
   "metadata": {},
   "outputs": [
    {
     "data": {
      "image/png": "[encoded data removed]",
      "text/plain": [
       "<Figure size 576x432 with 1 Axes>"
      ]
     },
     "metadata": {
      "needs_background": "light"
     },
     "output_type": "display_data"
    }
   ],
   "source": [
    "import numpy as np\n",
    "import matplotlib.pyplot as plt\n",
    "\n",
    "# Getting the centroids and labels\n",
    "centroids = kmeans.cluster_centers_\n",
    "labels = kmeans.labels_\n",
    "\n",
    "# Plotting the clusters\n",
    "plt.figure(figsize=(8, 6))\n",
    "\n",
    "# Plotting the clusters based on first two columns (features)\n",
    "plt.scatter(X.iloc[:, 0], X.iloc[:, 1], c=labels, cmap='viridis', s=50, alpha=0.5, edgecolors='k')\n",
    "\n",
    "# Plotting centroids\n",
    "plt.scatter(centroids[:, 0], centroids[:, 1], c='red', s=200, marker='X', label='Centroids')\n",
    "\n",
    "plt.xlabel('Sepal length')\n",
    "plt.ylabel('Sepal width')\n",
    "plt.title('K-means clustering on Iris dataset')\n",
    "plt.legend()\n",
    "plt.show()"
   ]
  },
  {
   "cell_type": "code",
   "execution_count": 42,
   "id": "c9ac3bff",
   "metadata": {},
   "outputs": [
    {
     "name": "stdout",
     "output_type": "stream",
     "text": [
      "Adjusted Rand Index: 0.7302382722834697\n"
     ]
    }
   ],
   "source": [
    "from sklearn.metrics import adjusted_rand_score\n",
    "\n",
    "# Calculate Adjusted Rand Index\n",
    "ari = adjusted_rand_score(Y, labels)\n",
    "print(\"Adjusted Rand Index:\", ari)"
   ]
  },
  {
   "cell_type": "code",
   "execution_count": 51,
   "id": "ae714072",
   "metadata": {},
   "outputs": [
    {
     "name": "stdout",
     "output_type": "stream",
     "text": [
      "Metric\t\t\tScore\n",
      "Silhouette Score\t0.553\n",
      "Calinski-Harabaz Index\t560.4\n",
      "Davies-Bouldin Index\t0.662\n"
     ]
    }
   ],
   "source": [
    "from sklearn import metrics\n",
    "\n",
    "sil_score = metrics.silhouette_score(X, labels)\n",
    "cali_score = metrics.calinski_harabasz_score(X, labels)\n",
    "davies_score = metrics.davies_bouldin_score(X, labels)\n",
    "\n",
    "print(\"Metric\\t\\t\\tScore\")\n",
    "print(\"Silhouette Score\\t{}\".format(sil_score.round(3)))\n",
    "print(\"Calinski-Harabaz Index\\t{}\".format(cali_score.round(3)))\n",
    "print(\"Davies-Bouldin Index\\t{}\".format(davies_score.round(3)))"
   ]
  },
  {
   "cell_type": "markdown",
   "id": "d7a7e94b",
   "metadata": {},
   "source": [
    "### PCA"
   ]
  },
  {
   "cell_type": "code",
   "execution_count": 43,
   "id": "03badb8b",
   "metadata": {},
   "outputs": [
    {
     "data": {
      "image/png": "[encoded data removed]",
      "text/plain": [
       "<Figure size 576x432 with 1 Axes>"
      ]
     },
     "metadata": {
      "needs_background": "light"
     },
     "output_type": "display_data"
    }
   ],
   "source": [
    "from sklearn.preprocessing import StandardScaler\n",
    "from sklearn.decomposition import PCA\n",
    "\n",
    "scaler = StandardScaler()\n",
    "X_scaled = scaler.fit_transform(X)\n",
    "\n",
    "# Apply PCA\n",
    "pca = PCA(n_components=2)  # Reduce to 2 dimensions for visualization\n",
    "X_pca = pca.fit_transform(X_scaled)\n",
    "\n",
    "# Plot the results\n",
    "plt.figure(figsize=(8, 6))\n",
    "for species in Y.unique():\n",
    "    plt.scatter(X_pca[Y == species, 0], X_pca[Y == species, 1], label=species)\n",
    "plt.xlabel('Principal Component 1')\n",
    "plt.ylabel('Principal Component 2')\n",
    "plt.title('PCA on Iris Dataset')\n",
    "plt.legend()\n",
    "plt.show()\n",
    "plt.show()"
   ]
  },
  {
   "cell_type": "markdown",
   "id": "b4f9773e",
   "metadata": {},
   "source": [
    "### Analysis of Classification Models"
   ]
  },
  {
   "cell_type": "code",
   "execution_count": 44,
   "id": "4c8c61a6",
   "metadata": {},
   "outputs": [
    {
     "name": "stdout",
     "output_type": "stream",
     "text": [
      "Model\t\tTestAccuracy\n",
      "SVM\t\t1.0\n",
      "KNN\t\t0.967\n",
      "RandomForest\t0.967\n",
      "MLP\t\t0.967\n",
      "LogisticReg\t1.0\n"
     ]
    }
   ],
   "source": [
    "#Print all the testing accuracies of the models \n",
    "#/t just adds space between both Columns\n",
    "#.round rounds to 3 decimal points or less\n",
    "#{} is string interpolation (placeholder for the accuracy)\n",
    "print(\"Model\\t\\tTestAccuracy\")\n",
    "print(\"SVM\\t\\t{}\".format(svn.score(X_test, y_test).round(3)))\n",
    "print(\"KNN\\t\\t{}\".format(knn.score(X_test1, y_test1).round(3)))\n",
    "print(\"RandomForest\\t{}\".format(rf.score(X_test2, y_test2).round(3)))\n",
    "print(\"MLP\\t\\t{}\".format(mlp.score(X_test3, y_test3).round(3)))\n",
    "print(\"LogisticReg\\t{}\".format(log_reg.score(X_test4, y_test4).round(3)))"
   ]
  },
  {
   "cell_type": "code",
   "execution_count": 46,
   "id": "a46f86df",
   "metadata": {},
   "outputs": [
    {
     "data": {
      "image/png": "[encoded data removed]",
      "text/plain": [
       "<Figure size 720x360 with 1 Axes>"
      ]
     },
     "metadata": {
      "needs_background": "light"
     },
     "output_type": "display_data"
    }
   ],
   "source": [
    "#Bar Chart for model accuracies \n",
    "data = {'SVM':svn.score(X_test, y_test).round(3), \n",
    "        'KNN':knn.score(X_test1, y_test1).round(3), \n",
    "        'RandomForest':rf.score(X_test2, y_test2).round(3), \n",
    "        'MLP':mlp.score(X_test3, y_test3).round(3),\n",
    "        'Log Reg': log_reg.score(X_test4, y_test4).round(3)}\n",
    "\n",
    "models = list(data.keys())\n",
    "accuracy = list(data.values())\n",
    "  \n",
    "fig = plt.figure(figsize = (10, 5))\n",
    " \n",
    "# creating the bar plot\n",
    "plt.bar(models, accuracy, color ='Plum', \n",
    "        width = 0.4)\n",
    " \n",
    "plt.xlabel(\"Models\")\n",
    "plt.ylabel(\"Test Accuracy Score\")\n",
    "plt.title(\"Accuracy of the Models\")\n",
    "plt.grid(axis=\"y\")\n",
    "plt.show()"
   ]
  },
  {
   "cell_type": "markdown",
   "id": "3512b166",
   "metadata": {},
   "source": [
    "#### We can note that the SVM & Logistic Reg Model performed the best, but all the other models' accuracies were also high. All the models work well with the data"
   ]
  },
  {
   "cell_type": "code",
   "execution_count": null,
   "id": "ee28e147",
   "metadata": {},
   "outputs": [],
   "source": []
  }
 ],
 "metadata": {
  "kernelspec": {
   "display_name": "Python 3",
   "language": "python",
   "name": "python3"
  },
  "language_info": {
   "codemirror_mode": {
    "name": "ipython",
    "version": 3
   },
   "file_extension": ".py",
   "mimetype": "text/x-python",
   "name": "python",
   "nbconvert_exporter": "python",
   "pygments_lexer": "ipython3",
   "version": "3.8.8"
  }
 },
 "nbformat": 4,
 "nbformat_minor": 5
}
