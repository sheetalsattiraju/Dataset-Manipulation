{
 "cells": [
  {
   "cell_type": "code",
   "execution_count": 1,
   "id": "28cac39c",
   "metadata": {
    "scrolled": true
   },
   "outputs": [
    {
     "name": "stdout",
     "output_type": "stream",
     "text": [
      "Accuracy: 0.8333333333333334\n",
      "              precision    recall  f1-score   support\n",
      "\n",
      "           0       0.82      0.93      0.87        15\n",
      "           1       0.79      0.85      0.81        13\n",
      "           2       1.00      0.62      0.77         8\n",
      "\n",
      "    accuracy                           0.83        36\n",
      "   macro avg       0.87      0.80      0.82        36\n",
      "weighted avg       0.85      0.83      0.83        36\n",
      "\n"
     ]
    }
   ],
   "source": [
    "from sklearn.preprocessing import StandardScaler\n",
    "from sklearn.tree import DecisionTreeClassifier\n",
    "from sklearn.datasets import load_wine\n",
    "from sklearn.model_selection import train_test_split\n",
    "from sklearn.metrics import classification_report\n",
    "\n",
    "#Load dataset\n",
    "data = load_wine()\n",
    "\n",
    "#Split data into training and test sets\n",
    "X_train, X_test, y_train, y_test = train_test_split(data.data, data.target, test_size=0.2)\n",
    "\n",
    "#Preprocess data using StandardScaler\n",
    "scaler = StandardScaler()\n",
    "X_train = scaler.fit_transform(X_train)\n",
    "X_test = scaler.transform(X_test)\n",
    "\n",
    "#Create DT Classifier\n",
    "dtf = DecisionTreeClassifier()\n",
    "\n",
    "#Train model\n",
    "dtf.fit(X_train, y_train)\n",
    "\n",
    "#Evaluate model\n",
    "accuracy = dtf.score(X_test, y_test)\n",
    "print('Accuracy:', accuracy)\n",
    "\n",
    "#Make predictions\n",
    "y_pred = dtf.predict(X_test)\n",
    "\n",
    "#Classification report\n",
    "report = classification_report(y_test, y_pred)\n",
    "print(report)"
   ]
  },
  {
   "cell_type": "code",
   "execution_count": 2,
   "id": "61805c55",
   "metadata": {
    "scrolled": true
   },
   "outputs": [
    {
     "data": {
      "text/plain": [
       "<sklearn.metrics._plot.confusion_matrix.ConfusionMatrixDisplay at 0x1f73674efd0>"
      ]
     },
     "execution_count": 2,
     "metadata": {},
     "output_type": "execute_result"
    },
    {
     "data": {
      "image/png": "[encoded data removed]",
      "text/plain": [
       "<Figure size 432x288 with 2 Axes>"
      ]
     },
     "metadata": {
      "needs_background": "light"
     },
     "output_type": "display_data"
    }
   ],
   "source": [
    "from sklearn.metrics import plot_confusion_matrix\n",
    "plot_confusion_matrix(dtf, X_test, y_test)"
   ]
  },
  {
   "cell_type": "code",
   "execution_count": 3,
   "id": "e9dc264a",
   "metadata": {},
   "outputs": [
    {
     "name": "stdout",
     "output_type": "stream",
     "text": [
      "[1.         1.         1.         0.85714286 1.         0.92857143\n",
      " 0.92857143 0.85714286 0.78571429 1.        ]\n",
      "Mean Score = 93.571 %\n"
     ]
    }
   ],
   "source": [
    "from sklearn.model_selection import cross_val_score\n",
    "dtf_cross_validation = cross_val_score(dtf, X_train, y_train, cv=10)\n",
    "print(dtf_cross_validation)\n",
    "print('Mean Score =', dtf_cross_validation.mean().round(5)*100,'%')"
   ]
  }
 ],
 "metadata": {
  "kernelspec": {
   "display_name": "Python 3",
   "language": "python",
   "name": "python3"
  },
  "language_info": {
   "codemirror_mode": {
    "name": "ipython",
    "version": 3
   },
   "file_extension": ".py",
   "mimetype": "text/x-python",
   "name": "python",
   "nbconvert_exporter": "python",
   "pygments_lexer": "ipython3",
   "version": "3.8.8"
  }
 },
 "nbformat": 4,
 "nbformat_minor": 5
}
