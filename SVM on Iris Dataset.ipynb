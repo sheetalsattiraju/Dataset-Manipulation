{
 "cells": [
  {
   "cell_type": "code",
   "execution_count": 1,
   "id": "dbcc5ebf",
   "metadata": {},
   "outputs": [],
   "source": [
    "#Part 1: SVM"
   ]
  },
  {
   "cell_type": "code",
   "execution_count": 2,
   "id": "7bcd14fb",
   "metadata": {},
   "outputs": [],
   "source": [
    "from sklearn.datasets import load_iris"
   ]
  },
  {
   "cell_type": "code",
   "execution_count": 3,
   "id": "72bbdca2",
   "metadata": {},
   "outputs": [],
   "source": [
    "import numpy as np\n",
    "import matplotlib.pyplot as plt\n",
    "import seaborn as sns\n",
    "import pandas as pd\n",
    "%matplotlib inline\n",
    "\n",
    "from sklearn import datasets"
   ]
  },
  {
   "cell_type": "code",
   "execution_count": 4,
   "id": "c8a5a7d9",
   "metadata": {},
   "outputs": [],
   "source": [
    "iris = datasets.load_iris()\n",
    "\n",
    "iris_df = pd.DataFrame(data= np.c_[iris['data'], iris['target']],\n",
    "                      columns= iris['feature_names'] + ['target'])"
   ]
  },
  {
   "cell_type": "code",
   "execution_count": 5,
   "id": "1cd0ad41",
   "metadata": {
    "scrolled": true
   },
   "outputs": [
    {
     "name": "stdout",
     "output_type": "stream",
     "text": [
      "     sepal length (cm)  sepal width (cm)  petal length (cm)  petal width (cm)  \\\n",
      "0                  5.1               3.5                1.4               0.2   \n",
      "1                  4.9               3.0                1.4               0.2   \n",
      "2                  4.7               3.2                1.3               0.2   \n",
      "3                  4.6               3.1                1.5               0.2   \n",
      "4                  5.0               3.6                1.4               0.2   \n",
      "..                 ...               ...                ...               ...   \n",
      "145                6.7               3.0                5.2               2.3   \n",
      "146                6.3               2.5                5.0               1.9   \n",
      "147                6.5               3.0                5.2               2.0   \n",
      "148                6.2               3.4                5.4               2.3   \n",
      "149                5.9               3.0                5.1               1.8   \n",
      "\n",
      "     target  \n",
      "0       0.0  \n",
      "1       0.0  \n",
      "2       0.0  \n",
      "3       0.0  \n",
      "4       0.0  \n",
      "..      ...  \n",
      "145     2.0  \n",
      "146     2.0  \n",
      "147     2.0  \n",
      "148     2.0  \n",
      "149     2.0  \n",
      "\n",
      "[150 rows x 5 columns]\n"
     ]
    }
   ],
   "source": [
    "print(iris_df)"
   ]
  },
  {
   "cell_type": "code",
   "execution_count": 6,
   "id": "a98eb080",
   "metadata": {},
   "outputs": [],
   "source": [
    "data = iris_df.values\n",
    "X = data[:,0:4]\n",
    "Y = data[:,4]"
   ]
  },
  {
   "cell_type": "code",
   "execution_count": 7,
   "id": "665d9894",
   "metadata": {},
   "outputs": [],
   "source": [
    "from sklearn.model_selection import train_test_split\n",
    "X_train, X_test, y_train, y_test = train_test_split(X, Y, test_size=0.2)"
   ]
  },
  {
   "cell_type": "code",
   "execution_count": 8,
   "id": "a2ff94a9",
   "metadata": {},
   "outputs": [
    {
     "data": {
      "text/plain": [
       "SVC()"
      ]
     },
     "execution_count": 8,
     "metadata": {},
     "output_type": "execute_result"
    }
   ],
   "source": [
    "from sklearn.svm import SVC\n",
    "svn = SVC()\n",
    "svn.fit(X_train, y_train)"
   ]
  },
  {
   "cell_type": "code",
   "execution_count": 9,
   "id": "0080866e",
   "metadata": {},
   "outputs": [
    {
     "data": {
      "text/plain": [
       "0.9333333333333333"
      ]
     },
     "execution_count": 9,
     "metadata": {},
     "output_type": "execute_result"
    }
   ],
   "source": [
    "# Predict from the test dataset\n",
    "predictions = svn.predict(X_test)\n",
    "# Calculate the accuracy\n",
    "from sklearn.metrics import accuracy_score\n",
    "accuracy_score(y_test, predictions)"
   ]
  },
  {
   "cell_type": "code",
   "execution_count": 10,
   "id": "7e849bfc",
   "metadata": {
    "scrolled": false
   },
   "outputs": [
    {
     "name": "stdout",
     "output_type": "stream",
     "text": [
      "              precision    recall  f1-score   support\n",
      "\n",
      "         0.0       1.00      1.00      1.00        12\n",
      "         1.0       0.89      0.89      0.89         9\n",
      "         2.0       0.89      0.89      0.89         9\n",
      "\n",
      "    accuracy                           0.93        30\n",
      "   macro avg       0.93      0.93      0.93        30\n",
      "weighted avg       0.93      0.93      0.93        30\n",
      "\n"
     ]
    }
   ],
   "source": [
    "from sklearn.metrics import classification_report\n",
    "print(classification_report(y_test, predictions))"
   ]
  },
  {
   "cell_type": "code",
   "execution_count": 11,
   "id": "be1ae3be",
   "metadata": {},
   "outputs": [],
   "source": [
    "#Part 2 GridSearch"
   ]
  },
  {
   "cell_type": "code",
   "execution_count": 12,
   "id": "3431d4ba",
   "metadata": {},
   "outputs": [],
   "source": [
    "from sklearn.model_selection import GridSearchCV"
   ]
  },
  {
   "cell_type": "code",
   "execution_count": 13,
   "id": "c4c759e0",
   "metadata": {},
   "outputs": [],
   "source": [
    "param_grid = {'C':[0.1,1,10,100], 'gamma':[1,0.1,0.01,0.001]}"
   ]
  },
  {
   "cell_type": "code",
   "execution_count": 14,
   "id": "967b5d0d",
   "metadata": {
    "scrolled": true
   },
   "outputs": [
    {
     "name": "stdout",
     "output_type": "stream",
     "text": [
      "Fitting 5 folds for each of 16 candidates, totalling 80 fits\n",
      "[CV 1/5] END .................................C=0.1, gamma=1; total time=   0.0s\n",
      "[CV 2/5] END .................................C=0.1, gamma=1; total time=   0.0s\n",
      "[CV 3/5] END .................................C=0.1, gamma=1; total time=   0.0s\n",
      "[CV 4/5] END .................................C=0.1, gamma=1; total time=   0.0s\n",
      "[CV 5/5] END .................................C=0.1, gamma=1; total time=   0.0s\n",
      "[CV 1/5] END ...............................C=0.1, gamma=0.1; total time=   0.0s\n",
      "[CV 2/5] END ...............................C=0.1, gamma=0.1; total time=   0.0s\n",
      "[CV 3/5] END ...............................C=0.1, gamma=0.1; total time=   0.0s\n",
      "[CV 4/5] END ...............................C=0.1, gamma=0.1; total time=   0.0s\n",
      "[CV 5/5] END ...............................C=0.1, gamma=0.1; total time=   0.0s\n",
      "[CV 1/5] END ..............................C=0.1, gamma=0.01; total time=   0.0s\n",
      "[CV 2/5] END ..............................C=0.1, gamma=0.01; total time=   0.0s\n",
      "[CV 3/5] END ..............................C=0.1, gamma=0.01; total time=   0.0s\n",
      "[CV 4/5] END ..............................C=0.1, gamma=0.01; total time=   0.0s\n",
      "[CV 5/5] END ..............................C=0.1, gamma=0.01; total time=   0.0s\n",
      "[CV 1/5] END .............................C=0.1, gamma=0.001; total time=   0.0s\n",
      "[CV 2/5] END .............................C=0.1, gamma=0.001; total time=   0.0s\n",
      "[CV 3/5] END .............................C=0.1, gamma=0.001; total time=   0.0s\n",
      "[CV 4/5] END .............................C=0.1, gamma=0.001; total time=   0.0s\n",
      "[CV 5/5] END .............................C=0.1, gamma=0.001; total time=   0.0s\n",
      "[CV 1/5] END ...................................C=1, gamma=1; total time=   0.0s\n",
      "[CV 2/5] END ...................................C=1, gamma=1; total time=   0.0s\n",
      "[CV 3/5] END ...................................C=1, gamma=1; total time=   0.0s\n",
      "[CV 4/5] END ...................................C=1, gamma=1; total time=   0.0s\n",
      "[CV 5/5] END ...................................C=1, gamma=1; total time=   0.0s\n",
      "[CV 1/5] END .................................C=1, gamma=0.1; total time=   0.0s\n",
      "[CV 2/5] END .................................C=1, gamma=0.1; total time=   0.0s\n",
      "[CV 3/5] END .................................C=1, gamma=0.1; total time=   0.0s\n",
      "[CV 4/5] END .................................C=1, gamma=0.1; total time=   0.0s\n",
      "[CV 5/5] END .................................C=1, gamma=0.1; total time=   0.0s\n",
      "[CV 1/5] END ................................C=1, gamma=0.01; total time=   0.0s\n",
      "[CV 2/5] END ................................C=1, gamma=0.01; total time=   0.0s\n",
      "[CV 3/5] END ................................C=1, gamma=0.01; total time=   0.0s\n",
      "[CV 4/5] END ................................C=1, gamma=0.01; total time=   0.0s\n",
      "[CV 5/5] END ................................C=1, gamma=0.01; total time=   0.0s\n",
      "[CV 1/5] END ...............................C=1, gamma=0.001; total time=   0.0s\n",
      "[CV 2/5] END ...............................C=1, gamma=0.001; total time=   0.0s\n",
      "[CV 3/5] END ...............................C=1, gamma=0.001; total time=   0.0s\n",
      "[CV 4/5] END ...............................C=1, gamma=0.001; total time=   0.0s\n",
      "[CV 5/5] END ...............................C=1, gamma=0.001; total time=   0.0s\n",
      "[CV 1/5] END ..................................C=10, gamma=1; total time=   0.0s\n",
      "[CV 2/5] END ..................................C=10, gamma=1; total time=   0.0s\n",
      "[CV 3/5] END ..................................C=10, gamma=1; total time=   0.0s\n",
      "[CV 4/5] END ..................................C=10, gamma=1; total time=   0.0s\n",
      "[CV 5/5] END ..................................C=10, gamma=1; total time=   0.0s\n",
      "[CV 1/5] END ................................C=10, gamma=0.1; total time=   0.0s\n",
      "[CV 2/5] END ................................C=10, gamma=0.1; total time=   0.0s\n",
      "[CV 3/5] END ................................C=10, gamma=0.1; total time=   0.0s\n",
      "[CV 4/5] END ................................C=10, gamma=0.1; total time=   0.0s\n",
      "[CV 5/5] END ................................C=10, gamma=0.1; total time=   0.0s\n",
      "[CV 1/5] END ...............................C=10, gamma=0.01; total time=   0.0s\n",
      "[CV 2/5] END ...............................C=10, gamma=0.01; total time=   0.0s\n",
      "[CV 3/5] END ...............................C=10, gamma=0.01; total time=   0.0s\n",
      "[CV 4/5] END ...............................C=10, gamma=0.01; total time=   0.0s\n",
      "[CV 5/5] END ...............................C=10, gamma=0.01; total time=   0.0s\n",
      "[CV 1/5] END ..............................C=10, gamma=0.001; total time=   0.0s\n",
      "[CV 2/5] END ..............................C=10, gamma=0.001; total time=   0.0s\n",
      "[CV 3/5] END ..............................C=10, gamma=0.001; total time=   0.0s\n",
      "[CV 4/5] END ..............................C=10, gamma=0.001; total time=   0.0s\n",
      "[CV 5/5] END ..............................C=10, gamma=0.001; total time=   0.0s\n",
      "[CV 1/5] END .................................C=100, gamma=1; total time=   0.0s\n",
      "[CV 2/5] END .................................C=100, gamma=1; total time=   0.0s\n",
      "[CV 3/5] END .................................C=100, gamma=1; total time=   0.0s\n",
      "[CV 4/5] END .................................C=100, gamma=1; total time=   0.0s\n",
      "[CV 5/5] END .................................C=100, gamma=1; total time=   0.0s\n",
      "[CV 1/5] END ...............................C=100, gamma=0.1; total time=   0.0s\n",
      "[CV 2/5] END ...............................C=100, gamma=0.1; total time=   0.0s\n",
      "[CV 3/5] END ...............................C=100, gamma=0.1; total time=   0.0s\n",
      "[CV 4/5] END ...............................C=100, gamma=0.1; total time=   0.0s\n",
      "[CV 5/5] END ...............................C=100, gamma=0.1; total time=   0.0s\n",
      "[CV 1/5] END ..............................C=100, gamma=0.01; total time=   0.0s\n",
      "[CV 2/5] END ..............................C=100, gamma=0.01; total time=   0.0s\n",
      "[CV 3/5] END ..............................C=100, gamma=0.01; total time=   0.0s\n",
      "[CV 4/5] END ..............................C=100, gamma=0.01; total time=   0.0s\n",
      "[CV 5/5] END ..............................C=100, gamma=0.01; total time=   0.0s\n",
      "[CV 1/5] END .............................C=100, gamma=0.001; total time=   0.0s\n",
      "[CV 2/5] END .............................C=100, gamma=0.001; total time=   0.0s\n",
      "[CV 3/5] END .............................C=100, gamma=0.001; total time=   0.0s\n",
      "[CV 4/5] END .............................C=100, gamma=0.001; total time=   0.0s\n",
      "[CV 5/5] END .............................C=100, gamma=0.001; total time=   0.0s\n"
     ]
    },
    {
     "data": {
      "text/plain": [
       "GridSearchCV(estimator=SVC(),\n",
       "             param_grid={'C': [0.1, 1, 10, 100],\n",
       "                         'gamma': [1, 0.1, 0.01, 0.001]},\n",
       "             verbose=3)"
      ]
     },
     "execution_count": 14,
     "metadata": {},
     "output_type": "execute_result"
    }
   ],
   "source": [
    "grid = GridSearchCV(SVC(), param_grid, refit = True, verbose=3)\n",
    "grid.fit(X_train, y_train)"
   ]
  },
  {
   "cell_type": "code",
   "execution_count": 15,
   "id": "16ce4913",
   "metadata": {},
   "outputs": [],
   "source": [
    "pred_grid = grid.predict(X_test)"
   ]
  },
  {
   "cell_type": "code",
   "execution_count": 16,
   "id": "bac54c2f",
   "metadata": {
    "scrolled": true
   },
   "outputs": [
    {
     "name": "stdout",
     "output_type": "stream",
     "text": [
      "              precision    recall  f1-score   support\n",
      "\n",
      "         0.0       1.00      1.00      1.00        12\n",
      "         1.0       0.89      0.89      0.89         9\n",
      "         2.0       0.89      0.89      0.89         9\n",
      "\n",
      "    accuracy                           0.93        30\n",
      "   macro avg       0.93      0.93      0.93        30\n",
      "weighted avg       0.93      0.93      0.93        30\n",
      "\n"
     ]
    }
   ],
   "source": [
    "print(classification_report(y_test, pred_grid))"
   ]
  },
  {
   "cell_type": "code",
   "execution_count": 17,
   "id": "193f695e",
   "metadata": {},
   "outputs": [
    {
     "data": {
      "text/plain": [
       "0.9333333333333333"
      ]
     },
     "execution_count": 17,
     "metadata": {},
     "output_type": "execute_result"
    }
   ],
   "source": [
    "accuracy_score(y_test, pred_grid)"
   ]
  }
 ],
 "metadata": {
  "kernelspec": {
   "display_name": "Python 3",
   "language": "python",
   "name": "python3"
  },
  "language_info": {
   "codemirror_mode": {
    "name": "ipython",
    "version": 3
   },
   "file_extension": ".py",
   "mimetype": "text/x-python",
   "name": "python",
   "nbconvert_exporter": "python",
   "pygments_lexer": "ipython3",
   "version": "3.8.8"
  }
 },
 "nbformat": 4,
 "nbformat_minor": 5
}
